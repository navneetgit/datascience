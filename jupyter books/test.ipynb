{
 "cells": [
  {
   "cell_type": "markdown",
   "metadata": {},
   "source": []
  },
  {
   "cell_type": "code",
   "execution_count": 6,
   "metadata": {},
   "outputs": [
    {
     "data": {
      "text/plain": [
       "'\\n>>> l = light()\\n... l.get_light_state()\\nGREEN\\n\\n>>> l.set_light_state(light_state.GREEN)\\n... l_get_light_state()\\nGREEN\\n'"
      ]
     },
     "execution_count": 6,
     "metadata": {},
     "output_type": "execute_result"
    }
   ],
   "source": [
    "# graph generator for cities\n",
    "from enum import Enum \n",
    "\n",
    "class light_state(Enum):\n",
    "    RED = 0\n",
    "    GREEN = 1\n",
    "    MAX = 2\n",
    "\n",
    "class light:\n",
    "    def __init__(self):\n",
    "        self._state = light_state.RED\n",
    "\n",
    "    def set_light_state(self, state):\n",
    "        if state >= light_state.MAX:\n",
    "            self._state = light_state.RED\n",
    "        else:\n",
    "            self._state = state\n",
    "\n",
    "    def get_light_state(self):\n",
    "        return self._state\n",
    "\n",
    "'''\n",
    ">>> l = light()\n",
    "... l.get_light_state().name\n",
    "GREEN\n",
    "\n",
    ">>> l.set_light_state(light_state.GREEN)\n",
    "... l_get_light_state().name\n",
    "GREEN\n",
    "'''"
   ]
  },
  {
   "cell_type": "code",
   "execution_count": 7,
   "metadata": {},
   "outputs": [
    {
     "data": {
      "text/plain": [
       "TestResults(failed=0, attempted=0)"
      ]
     },
     "execution_count": 7,
     "metadata": {},
     "output_type": "execute_result"
    }
   ],
   "source": [
    "# tests\n",
    "import doctest\n",
    "doctest.testmod()"
   ]
  }
 ],
 "metadata": {
  "interpreter": {
   "hash": "40d3a090f54c6569ab1632332b64b2c03c39dcf918b08424e98f38b5ae0af88f"
  },
  "kernelspec": {
   "display_name": "Python 3.8.8 64-bit ('base': conda)",
   "language": "python",
   "name": "python3"
  },
  "language_info": {
   "codemirror_mode": {
    "name": "ipython",
    "version": 3
   },
   "file_extension": ".py",
   "mimetype": "text/x-python",
   "name": "python",
   "nbconvert_exporter": "python",
   "pygments_lexer": "ipython3",
   "version": "3.8.12"
  },
  "orig_nbformat": 4
 },
 "nbformat": 4,
 "nbformat_minor": 2
}
