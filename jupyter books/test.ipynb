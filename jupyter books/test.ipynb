{
 "cells": [
  {
   "cell_type": "markdown",
   "metadata": {},
   "source": []
  },
  {
   "cell_type": "code",
   "execution_count": null,
   "metadata": {},
   "outputs": [],
   "source": [
    "from enum import Enum \n",
    "\n",
    "class light_state(Enum):\n",
    "    RED = 0\n",
    "    GREEN = 1\n",
    "    MAX = 2\n",
    "\n",
    "class light:\n",
    "    _state = light_state.RED\n",
    "\n",
    "    def set_light_state(self, state):\n",
    "        if state >= light_state.MAX:\n",
    "            _state = light_state.RED\n",
    "        else\n",
    "            _state = state\n",
    "\n",
    "    def get_light_state(self):\n",
    "        return _state\n",
    "\n",
    "'''\n",
    ">>> l = light()\n",
    "... l.get_light_state()\n",
    "RED\n",
    "\n",
    ">>> l.set_light_state(light_state.GREEN)\n",
    "... l_get_light_state()\n",
    "GREEN\n",
    "'''"
   ]
  },
  {
   "cell_type": "code",
   "execution_count": null,
   "metadata": {},
   "outputs": [],
   "source": [
    "# tests\n",
    "import doctest\n",
    "doctest.testmod()"
   ]
  }
 ],
 "metadata": {
  "interpreter": {
   "hash": "40d3a090f54c6569ab1632332b64b2c03c39dcf918b08424e98f38b5ae0af88f"
  },
  "kernelspec": {
   "display_name": "Python 3.8.8 64-bit ('base': conda)",
   "language": "python",
   "name": "python3"
  },
  "language_info": {
   "name": "python",
   "version": "3.8.8"
  },
  "orig_nbformat": 4
 },
 "nbformat": 4,
 "nbformat_minor": 2
}
